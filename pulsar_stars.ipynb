{
 "cells": [
  {
   "cell_type": "code",
   "execution_count": 1,
   "metadata": {},
   "outputs": [
    {
     "name": "stderr",
     "output_type": "stream",
     "text": [
      "Using TensorFlow backend.\n"
     ]
    }
   ],
   "source": [
    "#import library\n",
    "import csv\n",
    "import numpy as np\n",
    "import tensorflow as tf\n",
    "from tensorflow import keras\n",
    "import matplotlib.pyplot as plt\n",
    "from keras.utils import normalize\n",
    "from sklearn.model_selection import train_test_split\n",
    "from sklearn.metrics import classification_report, confusion_matrix, roc_curve, auc"
   ]
  },
  {
   "cell_type": "code",
   "execution_count": 2,
   "metadata": {},
   "outputs": [
    {
     "name": "stdout",
     "output_type": "stream",
     "text": [
      "CSV file shape: (17898, 9) CSV array type: float64\n",
      "Features shape: (17898, 8) Features type: float64\n",
      "Label shape: (17898, 1) Label type: float64\n",
      "X 300 : [ 1.35078125e+02  4.86865949e+01  1.13357619e-01 -1.47732293e-01\n",
      "  2.35451505e+00  1.72437203e+01  9.29144873e+00  1.00291910e+02] Y 300 : [0.]\n",
      "X 301 : [ 1.25679688e+02  4.80378974e+01  1.48706700e-02 -4.38671480e-02\n",
      "  5.91471572e+00  2.72983532e+01  5.19041361e+00  2.93343893e+01] Y 301 : [0.]\n",
      "X 302 : [ 1.19195312e+02  5.19281443e+01  4.71409480e-02 -6.86541211e-01\n",
      "  9.62792642e+00  3.88931457e+01  4.07205258e+00  1.55989075e+01] Y 302 : [0.]\n",
      "X 303 : [105.5         41.84177787   0.41714868   0.860093     2.08277592\n",
      "  19.14167399  10.14673318 107.6216551 ] Y 303 : [1.]\n"
     ]
    }
   ],
   "source": [
    "#load dataset file\n",
    "filename = 'pulsar_stars.csv'\n",
    "raw_data = open(filename, 'rt')\n",
    "\n",
    "#csv load file\n",
    "#reader = csv.reader(raw_data, delimiter = ',', quoting = csv.QUOTE_NONE)\n",
    "#x = list(reader)\n",
    "#sheet = np.array(x)\n",
    "#X = np.array(sheet[1:sheet.shape[0],0:(sheet.shape[1]-1)]).astype('float32')\n",
    "#Y = np.array(sheet[1:sheet.shape[0],(sheet.shape[1]-1):sheet.shape[1]]).astype('float32')\n",
    "\n",
    "#numpy load file, autoconvert to float64, skiprows = 1 to skip first row\n",
    "sheet = np.loadtxt(raw_data, delimiter = \",\", skiprows = 1)\n",
    "X = np.array(sheet[:,0:(sheet.shape[1]-1)])\n",
    "Y = np.array(sheet[:,(sheet.shape[1]-1):sheet.shape[1]])\n",
    "\n",
    "print(\"CSV file shape:\", sheet.shape, 'CSV array type:', sheet.dtype)\n",
    "print(\"Features shape:\", X.shape, 'Features type:', X.dtype)\n",
    "print(\"Label shape:\", Y.shape, 'Label type:', Y.dtype)\n",
    "n=300\n",
    "m=304\n",
    "for i in range (n, m):\n",
    "    print('X',i,':',X[i], 'Y',i,':',Y[i])"
   ]
  },
  {
   "cell_type": "code",
   "execution_count": 3,
   "metadata": {},
   "outputs": [],
   "source": [
    "#normalize X\n",
    "X = normalize(X, axis=-1, order=2)\n",
    "#split train/test sets\n",
    "xTrain, xTest, yTrain, yTest = train_test_split(X, Y, test_size = 0.2, random_state = 0, shuffle = True)"
   ]
  },
  {
   "cell_type": "code",
   "execution_count": 4,
   "metadata": {},
   "outputs": [
    {
     "name": "stdout",
     "output_type": "stream",
     "text": [
      "WARNING:tensorflow:From C:\\WPy64-3720\\python-3.7.2.amd64\\lib\\site-packages\\tensorflow\\python\\ops\\resource_variable_ops.py:435: colocate_with (from tensorflow.python.framework.ops) is deprecated and will be removed in a future version.\n",
      "Instructions for updating:\n",
      "Colocations handled automatically by placer.\n"
     ]
    }
   ],
   "source": [
    "#creat model\n",
    "model = keras.Sequential([keras.layers.Dense(28, activation = tf.nn.relu, input_dim = 8),\n",
    "                          keras.layers.Dense(1, activation = tf.nn.sigmoid),\n",
    "                         ])"
   ]
  },
  {
   "cell_type": "code",
   "execution_count": 5,
   "metadata": {},
   "outputs": [],
   "source": [
    "#compile the model\n",
    "model.compile(optimizer = 'adam',\n",
    "             loss = 'binary_crossentropy',\n",
    "             metrics = ['accuracy'])"
   ]
  },
  {
   "cell_type": "code",
   "execution_count": 6,
   "metadata": {},
   "outputs": [
    {
     "name": "stdout",
     "output_type": "stream",
     "text": [
      "Train on 14318 samples, validate on 3580 samples\n",
      "WARNING:tensorflow:From C:\\WPy64-3720\\python-3.7.2.amd64\\lib\\site-packages\\tensorflow\\python\\ops\\math_ops.py:3066: to_int32 (from tensorflow.python.ops.math_ops) is deprecated and will be removed in a future version.\n",
      "Instructions for updating:\n",
      "Use tf.cast instead.\n",
      "Epoch 1/30\n",
      "14318/14318 [==============================] - 1s 63us/sample - loss: 0.3306 - acc: 0.8645 - val_loss: 0.1503 - val_acc: 0.9595\n",
      "Epoch 2/30\n",
      "14318/14318 [==============================] - 1s 43us/sample - loss: 0.1456 - acc: 0.9552 - val_loss: 0.1144 - val_acc: 0.9668\n",
      "Epoch 3/30\n",
      "14318/14318 [==============================] - 1s 41us/sample - loss: 0.1237 - acc: 0.9628 - val_loss: 0.1017 - val_acc: 0.9709\n",
      "Epoch 4/30\n",
      "14318/14318 [==============================] - 1s 45us/sample - loss: 0.1116 - acc: 0.9661 - val_loss: 0.0924 - val_acc: 0.9763\n",
      "Epoch 5/30\n",
      "14318/14318 [==============================] - 1s 45us/sample - loss: 0.1038 - acc: 0.9690 - val_loss: 0.0860 - val_acc: 0.9754\n",
      "Epoch 6/30\n",
      "14318/14318 [==============================] - 1s 55us/sample - loss: 0.0992 - acc: 0.9702 - val_loss: 0.0886 - val_acc: 0.9782\n",
      "Epoch 7/30\n",
      "14318/14318 [==============================] - 1s 46us/sample - loss: 0.0961 - acc: 0.9716 - val_loss: 0.0837 - val_acc: 0.9788\n",
      "Epoch 8/30\n",
      "14318/14318 [==============================] - 1s 48us/sample - loss: 0.0943 - acc: 0.9717 - val_loss: 0.0794 - val_acc: 0.9785\n",
      "Epoch 9/30\n",
      "14318/14318 [==============================] - 1s 45us/sample - loss: 0.0928 - acc: 0.9723 - val_loss: 0.0781 - val_acc: 0.9788\n",
      "Epoch 10/30\n",
      "14318/14318 [==============================] - 1s 49us/sample - loss: 0.0916 - acc: 0.9722 - val_loss: 0.0770 - val_acc: 0.9793\n",
      "Epoch 11/30\n",
      "14318/14318 [==============================] - 1s 45us/sample - loss: 0.0913 - acc: 0.9722 - val_loss: 0.0776 - val_acc: 0.9810\n",
      "Epoch 12/30\n",
      "14318/14318 [==============================] - 1s 45us/sample - loss: 0.0907 - acc: 0.9728 - val_loss: 0.0791 - val_acc: 0.9818\n",
      "Epoch 13/30\n",
      "14318/14318 [==============================] - 1s 45us/sample - loss: 0.0905 - acc: 0.9731 - val_loss: 0.0750 - val_acc: 0.9799\n",
      "Epoch 14/30\n",
      "14318/14318 [==============================] - 1s 44us/sample - loss: 0.0902 - acc: 0.9730 - val_loss: 0.0754 - val_acc: 0.9816\n",
      "Epoch 15/30\n",
      "14318/14318 [==============================] - 1s 46us/sample - loss: 0.0899 - acc: 0.9730 - val_loss: 0.0745 - val_acc: 0.9810\n",
      "Epoch 16/30\n",
      "14318/14318 [==============================] - 1s 45us/sample - loss: 0.0899 - acc: 0.9730 - val_loss: 0.0753 - val_acc: 0.9821\n",
      "Epoch 17/30\n",
      "14318/14318 [==============================] - 1s 45us/sample - loss: 0.0893 - acc: 0.9736 - val_loss: 0.0739 - val_acc: 0.9810\n",
      "Epoch 18/30\n",
      "14318/14318 [==============================] - 1s 45us/sample - loss: 0.0890 - acc: 0.9735 - val_loss: 0.0787 - val_acc: 0.9821\n",
      "Epoch 19/30\n",
      "14318/14318 [==============================] - 1s 49us/sample - loss: 0.0896 - acc: 0.9732 - val_loss: 0.0740 - val_acc: 0.9818\n",
      "Epoch 20/30\n",
      "14318/14318 [==============================] - 1s 50us/sample - loss: 0.0889 - acc: 0.9733 - val_loss: 0.0738 - val_acc: 0.9818\n",
      "Epoch 21/30\n",
      "14318/14318 [==============================] - 1s 46us/sample - loss: 0.0891 - acc: 0.9733 - val_loss: 0.0742 - val_acc: 0.9824\n",
      "Epoch 22/30\n",
      "14318/14318 [==============================] - 1s 53us/sample - loss: 0.0887 - acc: 0.9735 - val_loss: 0.0743 - val_acc: 0.9824\n",
      "Epoch 23/30\n",
      "14318/14318 [==============================] - 1s 53us/sample - loss: 0.0886 - acc: 0.9737 - val_loss: 0.0734 - val_acc: 0.9827\n",
      "Epoch 24/30\n",
      "14318/14318 [==============================] - 1s 47us/sample - loss: 0.0884 - acc: 0.9734 - val_loss: 0.0754 - val_acc: 0.9821\n",
      "Epoch 25/30\n",
      "14318/14318 [==============================] - 1s 78us/sample - loss: 0.0884 - acc: 0.9739 - val_loss: 0.0745 - val_acc: 0.9830\n",
      "Epoch 26/30\n",
      "14318/14318 [==============================] - 1s 70us/sample - loss: 0.0881 - acc: 0.9735 - val_loss: 0.0723 - val_acc: 0.9818\n",
      "Epoch 27/30\n",
      "14318/14318 [==============================] - 1s 73us/sample - loss: 0.0879 - acc: 0.9739 - val_loss: 0.0725 - val_acc: 0.9827\n",
      "Epoch 28/30\n",
      "14318/14318 [==============================] - 1s 59us/sample - loss: 0.0879 - acc: 0.9738 - val_loss: 0.0735 - val_acc: 0.9824\n",
      "Epoch 29/30\n",
      "14318/14318 [==============================] - 1s 77us/sample - loss: 0.0876 - acc: 0.9740 - val_loss: 0.0722 - val_acc: 0.9827\n",
      "Epoch 30/30\n",
      "14318/14318 [==============================] - 1s 54us/sample - loss: 0.0876 - acc: 0.9736 - val_loss: 0.0728 - val_acc: 0.9824\n"
     ]
    }
   ],
   "source": [
    "#run model\n",
    "N = 30\n",
    "H = model.fit(xTrain, yTrain, epochs = N, validation_data=(xTest, yTest))"
   ]
  },
  {
   "cell_type": "code",
   "execution_count": 7,
   "metadata": {},
   "outputs": [
    {
     "name": "stdout",
     "output_type": "stream",
     "text": [
      "_________________________________________________________________\n",
      "Layer (type)                 Output Shape              Param #   \n",
      "=================================================================\n",
      "dense (Dense)                (None, 28)                252       \n",
      "_________________________________________________________________\n",
      "dense_1 (Dense)              (None, 1)                 29        \n",
      "=================================================================\n",
      "Total params: 281\n",
      "Trainable params: 281\n",
      "Non-trainable params: 0\n",
      "_________________________________________________________________\n",
      "14318/14318 [==============================] - 0s 20us/sample - loss: 0.0870 - acc: 0.9738\n",
      "Train accuracy: 0.9738092\n",
      "3580/3580 [==============================] - 0s 21us/sample - loss: 0.0728 - acc: 0.9824\n",
      "Test accuracy: 0.9824022\n"
     ]
    },
    {
     "data": {
      "image/png": "[encoded data removed]",
      "text/plain": [
       "<Figure size 432x288 with 1 Axes>"
      ]
     },
     "metadata": {},
     "output_type": "display_data"
    }
   ],
   "source": [
    "#evaluate accuracy\n",
    "model.summary()\n",
    "train_loss, train_acc = model.evaluate(xTrain, yTrain)\n",
    "print('Train accuracy:', train_acc)\n",
    "test_loss, test_acc = model.evaluate(xTest, yTest)\n",
    "print('Test accuracy:', test_acc)\n",
    "\n",
    "#plot\n",
    "plt.style.use(\"ggplot\")\n",
    "plt.figure()\n",
    "plt.plot(np.arange(0, N), H.history[\"loss\"], label=\"train_loss\")\n",
    "plt.plot(np.arange(0, N), H.history[\"val_loss\"], label=\"val_loss\")\n",
    "plt.plot(np.arange(0, N), H.history[\"acc\"], label=\"train_acc\")\n",
    "plt.plot(np.arange(0, N), H.history[\"val_acc\"], label=\"val_acc\")\n",
    "plt.title(\"Training Loss and Accuracy on Dataset\")\n",
    "plt.xlabel(\"Epoch #\")\n",
    "plt.ylabel(\"Loss/Accuracy\")\n",
    "plt.legend(loc=\"lower left\")\n",
    "plt.savefig(\"plot.png\")\n",
    "\n"
   ]
  },
  {
   "cell_type": "code",
   "execution_count": 8,
   "metadata": {},
   "outputs": [
    {
     "name": "stdout",
     "output_type": "stream",
     "text": [
      "                 precision    recall  f1-score   support\n",
      "\n",
      "Non-pulsar Star       0.99      0.99      0.99      3306\n",
      "    Pulsar Star       0.93      0.84      0.88       274\n",
      "\n",
      "      micro avg       0.98      0.98      0.98      3580\n",
      "      macro avg       0.96      0.92      0.93      3580\n",
      "   weighted avg       0.98      0.98      0.98      3580\n",
      "\n"
     ]
    }
   ],
   "source": [
    "prediction = model.predict(xTest)\n",
    "prediction[prediction <0.5] = 0\n",
    "prediction[prediction >= 0.5] = 1\n",
    "report = classification_report(yTest, prediction, target_names=['Non-pulsar Star', 'Pulsar Star'])\n",
    "#scores = model.evaluate(testX, testY, verbose = 0)\n",
    "#print('Accuracy = {:.7f}'.format(scores[1]))\n",
    "print(report)"
   ]
  },
  {
   "cell_type": "code",
   "execution_count": 9,
   "metadata": {},
   "outputs": [
    {
     "data": {
      "image/png": "[encoded data removed]",
      "text/plain": [
       "<Figure size 432x288 with 1 Axes>"
      ]
     },
     "metadata": {},
     "output_type": "display_data"
    }
   ],
   "source": [
    "fpr_keras, tpr_keras, thresholds_keras = roc_curve(yTest, prediction)\n",
    "auc_keras = auc(fpr_keras, tpr_keras)\n",
    "plt.figure(1)\n",
    "plt.plot([0, 1], [0, 1], 'k--')\n",
    "plt.plot(fpr_keras, tpr_keras, label='Keras (area = {:.3f})'.format(auc_keras))\n",
    "plt.xlabel('False positive rate')\n",
    "plt.ylabel('True positive rate')\n",
    "plt.title('ROC curve')\n",
    "plt.legend(loc='best')\n",
    "plt.show()"
   ]
  },
  {
   "cell_type": "code",
   "execution_count": null,
   "metadata": {},
   "outputs": [],
   "source": []
  },
  {
   "cell_type": "code",
   "execution_count": null,
   "metadata": {},
   "outputs": [],
   "source": []
  },
  {
   "cell_type": "code",
   "execution_count": null,
   "metadata": {},
   "outputs": [],
   "source": []
  }
 ],
 "metadata": {
  "kernelspec": {
   "display_name": "Python 3",
   "language": "python",
   "name": "python3"
  },
  "language_info": {
   "codemirror_mode": {
    "name": "ipython",
    "version": 3
   },
   "file_extension": ".py",
   "mimetype": "text/x-python",
   "name": "python",
   "nbconvert_exporter": "python",
   "pygments_lexer": "ipython3",
   "version": "3.7.2"
  }
 },
 "nbformat": 4,
 "nbformat_minor": 2
}
